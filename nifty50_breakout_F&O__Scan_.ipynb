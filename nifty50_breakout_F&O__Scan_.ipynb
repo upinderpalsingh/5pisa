{
  "nbformat": 4,
  "nbformat_minor": 0,
  "metadata": {
    "colab": {
      "provenance": [],
      "authorship_tag": "ABX9TyM9MjvicEp9yAmb1hhLM1vv",
      "include_colab_link": true
    },
    "kernelspec": {
      "name": "python3",
      "display_name": "Python 3"
    },
    "language_info": {
      "name": "python"
    }
  },
  "cells": [
    {
      "cell_type": "markdown",
      "metadata": {
        "id": "view-in-github",
        "colab_type": "text"
      },
      "source": [
        "<a href=\"https://colab.research.google.com/github/upinderpalsingh/5pisa/blob/main/nifty50_breakout_F%26O__Scan_.ipynb\" target=\"_parent\"><img src=\"https://colab.research.google.com/assets/colab-badge.svg\" alt=\"Open In Colab\"/></a>"
      ]
    },
    {
      "cell_type": "code",
      "source": [
        "pip install ta"
      ],
      "metadata": {
        "colab": {
          "base_uri": "https://localhost:8080/"
        },
        "id": "t26IL1xrk3nl",
        "outputId": "f39ea831-0e55-4ef2-cf32-606f28b35741"
      },
      "execution_count": 2,
      "outputs": [
        {
          "output_type": "stream",
          "name": "stdout",
          "text": [
            "Collecting ta\n",
            "  Downloading ta-0.11.0.tar.gz (25 kB)\n",
            "  Preparing metadata (setup.py) ... \u001b[?25l\u001b[?25hdone\n",
            "Requirement already satisfied: numpy in /usr/local/lib/python3.11/dist-packages (from ta) (1.26.4)\n",
            "Requirement already satisfied: pandas in /usr/local/lib/python3.11/dist-packages (from ta) (2.2.2)\n",
            "Requirement already satisfied: python-dateutil>=2.8.2 in /usr/local/lib/python3.11/dist-packages (from pandas->ta) (2.8.2)\n",
            "Requirement already satisfied: pytz>=2020.1 in /usr/local/lib/python3.11/dist-packages (from pandas->ta) (2024.2)\n",
            "Requirement already satisfied: tzdata>=2022.7 in /usr/local/lib/python3.11/dist-packages (from pandas->ta) (2025.1)\n",
            "Requirement already satisfied: six>=1.5 in /usr/local/lib/python3.11/dist-packages (from python-dateutil>=2.8.2->pandas->ta) (1.17.0)\n",
            "Building wheels for collected packages: ta\n",
            "  Building wheel for ta (setup.py) ... \u001b[?25l\u001b[?25hdone\n",
            "  Created wheel for ta: filename=ta-0.11.0-py3-none-any.whl size=29412 sha256=3e4eea1c2b0a73c37e8bd6d60024aa49b2e01952c8cc4a6adc5f8c6eb1968321\n",
            "  Stored in directory: /root/.cache/pip/wheels/a1/d7/29/7781cc5eb9a3659d032d7d15bdd0f49d07d2b24fec29f44bc4\n",
            "Successfully built ta\n",
            "Installing collected packages: ta\n",
            "Successfully installed ta-0.11.0\n"
          ]
        }
      ]
    },
    {
      "cell_type": "code",
      "source": [
        "!pip install yfinance ta"
      ],
      "metadata": {
        "colab": {
          "base_uri": "https://localhost:8080/"
        },
        "id": "SZ2pqsVXpE6u",
        "outputId": "11b47ba6-5638-4b3b-a05c-355976237451"
      },
      "execution_count": 3,
      "outputs": [
        {
          "output_type": "stream",
          "name": "stdout",
          "text": [
            "Requirement already satisfied: yfinance in /usr/local/lib/python3.11/dist-packages (0.2.52)\n",
            "Requirement already satisfied: ta in /usr/local/lib/python3.11/dist-packages (0.11.0)\n",
            "Requirement already satisfied: pandas>=1.3.0 in /usr/local/lib/python3.11/dist-packages (from yfinance) (2.2.2)\n",
            "Requirement already satisfied: numpy>=1.16.5 in /usr/local/lib/python3.11/dist-packages (from yfinance) (1.26.4)\n",
            "Requirement already satisfied: requests>=2.31 in /usr/local/lib/python3.11/dist-packages (from yfinance) (2.32.3)\n",
            "Requirement already satisfied: multitasking>=0.0.7 in /usr/local/lib/python3.11/dist-packages (from yfinance) (0.0.11)\n",
            "Requirement already satisfied: lxml>=4.9.1 in /usr/local/lib/python3.11/dist-packages (from yfinance) (5.3.0)\n",
            "Requirement already satisfied: platformdirs>=2.0.0 in /usr/local/lib/python3.11/dist-packages (from yfinance) (4.3.6)\n",
            "Requirement already satisfied: pytz>=2022.5 in /usr/local/lib/python3.11/dist-packages (from yfinance) (2024.2)\n",
            "Requirement already satisfied: frozendict>=2.3.4 in /usr/local/lib/python3.11/dist-packages (from yfinance) (2.4.6)\n",
            "Requirement already satisfied: peewee>=3.16.2 in /usr/local/lib/python3.11/dist-packages (from yfinance) (3.17.8)\n",
            "Requirement already satisfied: beautifulsoup4>=4.11.1 in /usr/local/lib/python3.11/dist-packages (from yfinance) (4.12.3)\n",
            "Requirement already satisfied: html5lib>=1.1 in /usr/local/lib/python3.11/dist-packages (from yfinance) (1.1)\n",
            "Requirement already satisfied: soupsieve>1.2 in /usr/local/lib/python3.11/dist-packages (from beautifulsoup4>=4.11.1->yfinance) (2.6)\n",
            "Requirement already satisfied: six>=1.9 in /usr/local/lib/python3.11/dist-packages (from html5lib>=1.1->yfinance) (1.17.0)\n",
            "Requirement already satisfied: webencodings in /usr/local/lib/python3.11/dist-packages (from html5lib>=1.1->yfinance) (0.5.1)\n",
            "Requirement already satisfied: python-dateutil>=2.8.2 in /usr/local/lib/python3.11/dist-packages (from pandas>=1.3.0->yfinance) (2.8.2)\n",
            "Requirement already satisfied: tzdata>=2022.7 in /usr/local/lib/python3.11/dist-packages (from pandas>=1.3.0->yfinance) (2025.1)\n",
            "Requirement already satisfied: charset-normalizer<4,>=2 in /usr/local/lib/python3.11/dist-packages (from requests>=2.31->yfinance) (3.4.1)\n",
            "Requirement already satisfied: idna<4,>=2.5 in /usr/local/lib/python3.11/dist-packages (from requests>=2.31->yfinance) (3.10)\n",
            "Requirement already satisfied: urllib3<3,>=1.21.1 in /usr/local/lib/python3.11/dist-packages (from requests>=2.31->yfinance) (2.3.0)\n",
            "Requirement already satisfied: certifi>=2017.4.17 in /usr/local/lib/python3.11/dist-packages (from requests>=2.31->yfinance) (2024.12.14)\n"
          ]
        }
      ]
    },
    {
      "cell_type": "code",
      "source": [
        "!pip install pandas numpy  ta  yfinance"
      ],
      "metadata": {
        "colab": {
          "base_uri": "https://localhost:8080/"
        },
        "id": "X2Ss_w0mf1V_",
        "outputId": "5b515835-4cc5-4fc2-e48d-440868d0d7e4"
      },
      "execution_count": 3,
      "outputs": [
        {
          "output_type": "stream",
          "name": "stdout",
          "text": [
            "Requirement already satisfied: pandas in /usr/local/lib/python3.11/dist-packages (2.2.2)\n",
            "Requirement already satisfied: numpy in /usr/local/lib/python3.11/dist-packages (1.26.4)\n",
            "Collecting ta\n",
            "  Downloading ta-0.11.0.tar.gz (25 kB)\n",
            "  Preparing metadata (setup.py) ... \u001b[?25l\u001b[?25hdone\n",
            "Requirement already satisfied: yfinance in /usr/local/lib/python3.11/dist-packages (0.2.52)\n",
            "Requirement already satisfied: python-dateutil>=2.8.2 in /usr/local/lib/python3.11/dist-packages (from pandas) (2.8.2)\n",
            "Requirement already satisfied: pytz>=2020.1 in /usr/local/lib/python3.11/dist-packages (from pandas) (2025.1)\n",
            "Requirement already satisfied: tzdata>=2022.7 in /usr/local/lib/python3.11/dist-packages (from pandas) (2025.1)\n",
            "Requirement already satisfied: requests>=2.31 in /usr/local/lib/python3.11/dist-packages (from yfinance) (2.32.3)\n",
            "Requirement already satisfied: multitasking>=0.0.7 in /usr/local/lib/python3.11/dist-packages (from yfinance) (0.0.11)\n",
            "Requirement already satisfied: lxml>=4.9.1 in /usr/local/lib/python3.11/dist-packages (from yfinance) (5.3.0)\n",
            "Requirement already satisfied: platformdirs>=2.0.0 in /usr/local/lib/python3.11/dist-packages (from yfinance) (4.3.6)\n",
            "Requirement already satisfied: frozendict>=2.3.4 in /usr/local/lib/python3.11/dist-packages (from yfinance) (2.4.6)\n",
            "Requirement already satisfied: peewee>=3.16.2 in /usr/local/lib/python3.11/dist-packages (from yfinance) (3.17.8)\n",
            "Requirement already satisfied: beautifulsoup4>=4.11.1 in /usr/local/lib/python3.11/dist-packages (from yfinance) (4.13.1)\n",
            "Requirement already satisfied: html5lib>=1.1 in /usr/local/lib/python3.11/dist-packages (from yfinance) (1.1)\n",
            "Requirement already satisfied: soupsieve>1.2 in /usr/local/lib/python3.11/dist-packages (from beautifulsoup4>=4.11.1->yfinance) (2.6)\n",
            "Requirement already satisfied: typing-extensions>=4.0.0 in /usr/local/lib/python3.11/dist-packages (from beautifulsoup4>=4.11.1->yfinance) (4.12.2)\n",
            "Requirement already satisfied: six>=1.9 in /usr/local/lib/python3.11/dist-packages (from html5lib>=1.1->yfinance) (1.17.0)\n",
            "Requirement already satisfied: webencodings in /usr/local/lib/python3.11/dist-packages (from html5lib>=1.1->yfinance) (0.5.1)\n",
            "Requirement already satisfied: charset-normalizer<4,>=2 in /usr/local/lib/python3.11/dist-packages (from requests>=2.31->yfinance) (3.4.1)\n",
            "Requirement already satisfied: idna<4,>=2.5 in /usr/local/lib/python3.11/dist-packages (from requests>=2.31->yfinance) (3.10)\n",
            "Requirement already satisfied: urllib3<3,>=1.21.1 in /usr/local/lib/python3.11/dist-packages (from requests>=2.31->yfinance) (2.3.0)\n",
            "Requirement already satisfied: certifi>=2017.4.17 in /usr/local/lib/python3.11/dist-packages (from requests>=2.31->yfinance) (2025.1.31)\n",
            "Building wheels for collected packages: ta\n",
            "  Building wheel for ta (setup.py) ... \u001b[?25l\u001b[?25hdone\n",
            "  Created wheel for ta: filename=ta-0.11.0-py3-none-any.whl size=29412 sha256=07486ebfdf26fdc71c78cf2a3f9b1ce939d65d62b7f166c48a4e6b760ea293a7\n",
            "  Stored in directory: /root/.cache/pip/wheels/a1/d7/29/7781cc5eb9a3659d032d7d15bdd0f49d07d2b24fec29f44bc4\n",
            "Successfully built ta\n",
            "Installing collected packages: ta\n",
            "Successfully installed ta-0.11.0\n"
          ]
        }
      ]
    },
    {
      "cell_type": "code",
      "source": [
        "pip install pandas ta requests"
      ],
      "metadata": {
        "colab": {
          "base_uri": "https://localhost:8080/"
        },
        "id": "oSInP9ophQza",
        "outputId": "abbdd2f9-8bcd-4c37-b690-372a72b824b0"
      },
      "execution_count": 4,
      "outputs": [
        {
          "output_type": "stream",
          "name": "stdout",
          "text": [
            "Requirement already satisfied: pandas in /usr/local/lib/python3.11/dist-packages (2.2.2)\n",
            "Requirement already satisfied: ta in /usr/local/lib/python3.11/dist-packages (0.11.0)\n",
            "Requirement already satisfied: requests in /usr/local/lib/python3.11/dist-packages (2.32.3)\n",
            "Requirement already satisfied: numpy>=1.23.2 in /usr/local/lib/python3.11/dist-packages (from pandas) (1.26.4)\n",
            "Requirement already satisfied: python-dateutil>=2.8.2 in /usr/local/lib/python3.11/dist-packages (from pandas) (2.8.2)\n",
            "Requirement already satisfied: pytz>=2020.1 in /usr/local/lib/python3.11/dist-packages (from pandas) (2025.1)\n",
            "Requirement already satisfied: tzdata>=2022.7 in /usr/local/lib/python3.11/dist-packages (from pandas) (2025.1)\n",
            "Requirement already satisfied: charset-normalizer<4,>=2 in /usr/local/lib/python3.11/dist-packages (from requests) (3.4.1)\n",
            "Requirement already satisfied: idna<4,>=2.5 in /usr/local/lib/python3.11/dist-packages (from requests) (3.10)\n",
            "Requirement already satisfied: urllib3<3,>=1.21.1 in /usr/local/lib/python3.11/dist-packages (from requests) (2.3.0)\n",
            "Requirement already satisfied: certifi>=2017.4.17 in /usr/local/lib/python3.11/dist-packages (from requests) (2025.1.31)\n",
            "Requirement already satisfied: six>=1.5 in /usr/local/lib/python3.11/dist-packages (from python-dateutil>=2.8.2->pandas) (1.17.0)\n"
          ]
        }
      ]
    },
    {
      "cell_type": "code",
      "source": [
        "import requests\n",
        "import pandas as pd\n",
        "import ta\n",
        "from datetime import datetime\n",
        "import time\n",
        "\n",
        "def fetch_nse_option_data(symbol=\"NIFTY\", expiry=\"13-Feb-2025\", strike_price=23700, option_type=\"CE\"):\n",
        "    \"\"\"\n",
        "    Fetches real-time NIFTY options data from NSE India\n",
        "    \"\"\"\n",
        "    url = f\"https://www.nseindia.com/api/option-chain-indices?symbol={symbol}\"\n",
        "    headers = {\n",
        "        \"User-Agent\": \"Mozilla/5.0\",\n",
        "        \"Accept-Language\": \"en-US,en;q=0.9\",\n",
        "    }\n",
        "\n",
        "    try:\n",
        "        response = requests.get(url, headers=headers)\n",
        "        data = response.json()\n",
        "\n",
        "        # Extract option chain data\n",
        "        option_chain = data[\"records\"][\"data\"]\n",
        "        df = pd.DataFrame(option_chain)\n",
        "\n",
        "        # Print columns to debug missing data\n",
        "        print(\"Fetched Data Columns:\", df.columns)\n",
        "\n",
        "        # Filter by expiry date & strike price\n",
        "        df = df[\n",
        "            (df[\"expiryDate\"] == expiry) &\n",
        "            (df[\"strikePrice\"] == strike_price)\n",
        "        ]\n",
        "\n",
        "        if df.empty:\n",
        "            print(f\"No data found for {strike_price} strike and expiry {expiry}\")\n",
        "            return None\n",
        "\n",
        "        if option_type not in [\"CE\", \"PE\"]:\n",
        "            print(\"Invalid option type! Use 'CE' for Call or 'PE' for Put.\")\n",
        "            return None\n",
        "\n",
        "        option_data = df.iloc[0][option_type]  # Extract Call/Put data\n",
        "        return pd.DataFrame([option_data])  # Convert to DataFrame\n",
        "\n",
        "    except Exception as e:\n",
        "        print(f\"Error fetching NSE data: {e}\")\n",
        "        return None\n",
        "\n",
        "def calculate_indicators(df):\n",
        "    \"\"\"\n",
        "    Calculate RSI, MACD, VWAP, EMA, and ADX indicators\n",
        "    \"\"\"\n",
        "    if \"lastPrice\" not in df.columns:\n",
        "        print(\"Error: 'lastPrice' column is missing in fetched data\")\n",
        "        return None\n",
        "\n",
        "    df[\"LTP\"] = df[\"lastPrice\"]  # Last Traded Price as Close price\n",
        "    df[\"VWAP\"] = df[\"LTP\"]  # Since NSE does not provide VWAP directly\n",
        "    df[\"EMA9\"] = ta.trend.ema_indicator(df[\"LTP\"], window=9)\n",
        "    df[\"EMA50\"] = ta.trend.ema_indicator(df[\"LTP\"], window=50)\n",
        "    df[\"RSI\"] = ta.momentum.RSIIndicator(df[\"LTP\"], window=14).rsi()\n",
        "    macd = ta.trend.MACD(df[\"LTP\"])\n",
        "    df[\"MACD\"] = macd.macd()\n",
        "    df[\"MACD_signal\"] = macd.macd_signal()\n",
        "    return df\n",
        "\n",
        "def check_signals(df):\n",
        "    \"\"\"\n",
        "    Identify Call or Put buy signals based on indicators\n",
        "    \"\"\"\n",
        "    if df is None or df.empty:\n",
        "        print(\"Error: Dataframe is empty or None. Cannot check signals.\")\n",
        "        return None, None, None\n",
        "\n",
        "    latest = df.iloc[-1]\n",
        "    signal = None\n",
        "    entry_price = latest[\"LTP\"]\n",
        "    target_price = None\n",
        "\n",
        "    if (latest[\"RSI\"] > 60 and\n",
        "        latest[\"LTP\"] > latest[\"VWAP\"] and\n",
        "        latest[\"EMA9\"] > latest[\"EMA50\"] and\n",
        "        latest[\"MACD\"] > latest[\"MACD_signal\"]):\n",
        "\n",
        "        signal = \"CALL BUY\"\n",
        "        target_price = entry_price * 1.05  # 5% target\n",
        "\n",
        "    elif (latest[\"RSI\"] < 40 and\n",
        "          latest[\"LTP\"] < latest[\"VWAP\"] and\n",
        "          latest[\"EMA9\"] < latest[\"EMA50\"] and\n",
        "          latest[\"MACD\"] < latest[\"MACD_signal\"]):\n",
        "\n",
        "        signal = \"PUT BUY\"\n",
        "        target_price = entry_price * 0.95  # 5% target\n",
        "\n",
        "    return signal, entry_price, target_price\n",
        "\n",
        "def run_strategy_every_2_minutes():\n",
        "    while True:\n",
        "        option_data = fetch_nse_option_data(symbol=\"NIFTY\", expiry=\"13-Feb-2025\", strike_price=23700, option_type=\"PE\")  # Change to \"CE\" for Call option\n",
        "\n",
        "        if option_data is not None:\n",
        "            df = calculate_indicators(option_data)\n",
        "\n",
        "            if df is not None:\n",
        "                # Check for signals\n",
        "                signal, entry_price, target_price = check_signals(df)\n",
        "\n",
        "                # Print recommendation\n",
        "                if signal:\n",
        "                    print(f\"Signal: {signal}\")\n",
        "                    print(f\"Entry Price: {entry_price:.2f}\")\n",
        "                    print(f\"Target Price: {target_price:.2f}\")\n",
        "                else:\n",
        "                    print(\"No clear trade signal found.\")\n",
        "            else:\n",
        "                print(\"Failed to process indicators.\")\n",
        "        else:\n",
        "            print(\"Could not fetch option data. Check NSE website manually.\")\n",
        "\n",
        "        time.sleep(120)  # Wait for 2 minutes before next iteration\n",
        "\n",
        "# Run the strategy\n",
        "run_strategy_every_2_minutes()"
      ],
      "metadata": {
        "colab": {
          "base_uri": "https://localhost:8080/",
          "height": 1000
        },
        "id": "8hd1w5BDioed",
        "outputId": "81609587-f421-4f79-d8c4-29eaf4ae9ac3"
      },
      "execution_count": 5,
      "outputs": [
        {
          "output_type": "stream",
          "name": "stdout",
          "text": [
            "Fetched Data Columns: Index(['strikePrice', 'expiryDate', 'PE', 'CE'], dtype='object')\n",
            "No clear trade signal found.\n",
            "Fetched Data Columns: Index(['strikePrice', 'expiryDate', 'PE', 'CE'], dtype='object')\n",
            "No clear trade signal found.\n",
            "Fetched Data Columns: Index(['strikePrice', 'expiryDate', 'PE', 'CE'], dtype='object')\n",
            "No clear trade signal found.\n",
            "Fetched Data Columns: Index(['strikePrice', 'expiryDate', 'PE', 'CE'], dtype='object')\n",
            "No clear trade signal found.\n",
            "Fetched Data Columns: Index(['strikePrice', 'expiryDate', 'PE', 'CE'], dtype='object')\n",
            "No clear trade signal found.\n",
            "Fetched Data Columns: Index(['strikePrice', 'expiryDate', 'PE', 'CE'], dtype='object')\n",
            "No clear trade signal found.\n",
            "Fetched Data Columns: Index(['strikePrice', 'expiryDate', 'PE', 'CE'], dtype='object')\n",
            "No clear trade signal found.\n",
            "Fetched Data Columns: Index(['strikePrice', 'expiryDate', 'PE', 'CE'], dtype='object')\n",
            "No clear trade signal found.\n",
            "Fetched Data Columns: Index(['strikePrice', 'expiryDate', 'PE', 'CE'], dtype='object')\n",
            "No clear trade signal found.\n",
            "Fetched Data Columns: Index(['strikePrice', 'expiryDate', 'PE', 'CE'], dtype='object')\n",
            "No clear trade signal found.\n",
            "Fetched Data Columns: Index(['strikePrice', 'expiryDate', 'PE', 'CE'], dtype='object')\n",
            "No clear trade signal found.\n",
            "Fetched Data Columns: Index(['strikePrice', 'expiryDate', 'PE', 'CE'], dtype='object')\n",
            "No clear trade signal found.\n",
            "Fetched Data Columns: Index(['strikePrice', 'expiryDate', 'PE', 'CE'], dtype='object')\n",
            "No clear trade signal found.\n",
            "Fetched Data Columns: Index(['strikePrice', 'expiryDate', 'PE', 'CE'], dtype='object')\n",
            "No clear trade signal found.\n",
            "Fetched Data Columns: Index(['strikePrice', 'expiryDate', 'PE', 'CE'], dtype='object')\n",
            "No clear trade signal found.\n",
            "Fetched Data Columns: Index(['strikePrice', 'expiryDate', 'PE', 'CE'], dtype='object')\n",
            "No clear trade signal found.\n",
            "Fetched Data Columns: Index(['strikePrice', 'expiryDate', 'PE', 'CE'], dtype='object')\n",
            "No clear trade signal found.\n",
            "Fetched Data Columns: Index(['strikePrice', 'expiryDate', 'PE', 'CE'], dtype='object')\n",
            "No clear trade signal found.\n",
            "Fetched Data Columns: Index(['strikePrice', 'expiryDate', 'PE', 'CE'], dtype='object')\n",
            "No clear trade signal found.\n",
            "Error fetching NSE data: Expecting value: line 1 column 1 (char 0)\n",
            "Could not fetch option data. Check NSE website manually.\n",
            "Fetched Data Columns: Index(['strikePrice', 'expiryDate', 'PE', 'CE'], dtype='object')\n",
            "No clear trade signal found.\n"
          ]
        },
        {
          "output_type": "error",
          "ename": "KeyboardInterrupt",
          "evalue": "",
          "traceback": [
            "\u001b[0;31m---------------------------------------------------------------------------\u001b[0m",
            "\u001b[0;31mKeyboardInterrupt\u001b[0m                         Traceback (most recent call last)",
            "\u001b[0;32m<ipython-input-5-ef83cfd488c4>\u001b[0m in \u001b[0;36m<cell line: 0>\u001b[0;34m()\u001b[0m\n\u001b[1;32m    122\u001b[0m \u001b[0;34m\u001b[0m\u001b[0m\n\u001b[1;32m    123\u001b[0m \u001b[0;31m# Run the strategy\u001b[0m\u001b[0;34m\u001b[0m\u001b[0;34m\u001b[0m\u001b[0m\n\u001b[0;32m--> 124\u001b[0;31m \u001b[0mrun_strategy_every_2_minutes\u001b[0m\u001b[0;34m(\u001b[0m\u001b[0;34m)\u001b[0m\u001b[0;34m\u001b[0m\u001b[0;34m\u001b[0m\u001b[0m\n\u001b[0m",
            "\u001b[0;32m<ipython-input-5-ef83cfd488c4>\u001b[0m in \u001b[0;36mrun_strategy_every_2_minutes\u001b[0;34m()\u001b[0m\n\u001b[1;32m    119\u001b[0m             \u001b[0mprint\u001b[0m\u001b[0;34m(\u001b[0m\u001b[0;34m\"Could not fetch option data. Check NSE website manually.\"\u001b[0m\u001b[0;34m)\u001b[0m\u001b[0;34m\u001b[0m\u001b[0;34m\u001b[0m\u001b[0m\n\u001b[1;32m    120\u001b[0m \u001b[0;34m\u001b[0m\u001b[0m\n\u001b[0;32m--> 121\u001b[0;31m         \u001b[0mtime\u001b[0m\u001b[0;34m.\u001b[0m\u001b[0msleep\u001b[0m\u001b[0;34m(\u001b[0m\u001b[0;36m120\u001b[0m\u001b[0;34m)\u001b[0m  \u001b[0;31m# Wait for 2 minutes before next iteration\u001b[0m\u001b[0;34m\u001b[0m\u001b[0;34m\u001b[0m\u001b[0m\n\u001b[0m\u001b[1;32m    122\u001b[0m \u001b[0;34m\u001b[0m\u001b[0m\n\u001b[1;32m    123\u001b[0m \u001b[0;31m# Run the strategy\u001b[0m\u001b[0;34m\u001b[0m\u001b[0;34m\u001b[0m\u001b[0m\n",
            "\u001b[0;31mKeyboardInterrupt\u001b[0m: "
          ]
        }
      ]
    }
  ]
}