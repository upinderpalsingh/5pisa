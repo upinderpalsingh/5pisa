{
  "nbformat": 4,
  "nbformat_minor": 0,
  "metadata": {
    "colab": {
      "provenance": [],
      "authorship_tag": "ABX9TyPjh+v2LRJcKGpaBlBYOMgd",
      "include_colab_link": true
    },
    "kernelspec": {
      "name": "python3",
      "display_name": "Python 3"
    },
    "language_info": {
      "name": "python"
    }
  },
  "cells": [
    {
      "cell_type": "markdown",
      "metadata": {
        "id": "view-in-github",
        "colab_type": "text"
      },
      "source": [
        "<a href=\"https://colab.research.google.com/github/upinderpalsingh/5pisa/blob/main/niftynext_50___scan__breakout_.ipynb\" target=\"_parent\"><img src=\"https://colab.research.google.com/assets/colab-badge.svg\" alt=\"Open In Colab\"/></a>"
      ]
    },
    {
      "cell_type": "code",
      "execution_count": null,
      "metadata": {
        "colab": {
          "base_uri": "https://localhost:8080/"
        },
        "id": "COJw_nI_qlTm",
        "outputId": "a734cba2-211a-40be-a6b8-66ded0819ba5"
      },
      "outputs": [
        {
          "output_type": "stream",
          "name": "stdout",
          "text": [
            "\n",
            "🔍 Scanning for Breakout Stocks in Nifty Next 50...\n",
            "🚨 No breakout stocks found.\n",
            "\n",
            "⏳ Waiting for 1 minute before next scan...\n",
            "\n",
            "\n",
            "🔍 Scanning for Breakout Stocks in Nifty Next 50...\n",
            "🚨 No breakout stocks found.\n",
            "\n",
            "⏳ Waiting for 1 minute before next scan...\n",
            "\n",
            "\n",
            "🔍 Scanning for Breakout Stocks in Nifty Next 50...\n",
            "🚨 No breakout stocks found.\n",
            "\n",
            "⏳ Waiting for 1 minute before next scan...\n",
            "\n"
          ]
        }
      ],
      "source": [
        "import pandas as pd\n",
        "import yfinance as yf\n",
        "import numpy as np\n",
        "import requests\n",
        "from bs4 import BeautifulSoup\n",
        "import time\n",
        "\n",
        "# Function to scrape Nifty Next 50 stocks from Moneycontrol\n",
        "def get_nifty_next_50_stocks():\n",
        "    url = \"https://www.moneycontrol.com/stocks/marketstats/indexcomp.php?optex=NSE&opttopic=indexcomp&index=38\"  # Nifty Next 50 page\n",
        "    headers = {\n",
        "        \"User-Agent\": \"Mozilla/5.0 (Windows NT 10.0; Win64; x64) AppleWebKit/537.36 (KHTML, like Gecko) Chrome/110.0.0.0 Safari/537.36\"\n",
        "    }\n",
        "\n",
        "    try:\n",
        "        response = requests.get(url, headers=headers)\n",
        "        soup = BeautifulSoup(response.text, \"html.parser\")\n",
        "\n",
        "        stocks = []\n",
        "        for row in soup.select(\"tr[bgcolor] td:nth-child(1) a\"):\n",
        "            stock_name = row.text.strip()\n",
        "            stocks.append(stock_name + \".NS\")  # Append \".NS\" for NSE stocks\n",
        "\n",
        "        return stocks[:50]  # Limit to 50 stocks for efficiency\n",
        "\n",
        "    except Exception as e:\n",
        "        print(f\"Error fetching Nifty Next 50 stocks: {e}\")\n",
        "        return []\n",
        "\n",
        "# Function to check breakout conditions\n",
        "def check_breakout(stock):\n",
        "    try:\n",
        "        df = yf.download(stock, period=\"6mo\", interval=\"1d\")\n",
        "\n",
        "        if df.empty:\n",
        "            return None\n",
        "\n",
        "        df['50_SMA'] = df['Close'].rolling(window=50).mean()\n",
        "        df['200_SMA'] = df['Close'].rolling(window=200).mean()\n",
        "\n",
        "        df['Upper_BB'] = df['Close'].rolling(window=20).mean() + (df['Close'].rolling(window=20).std() * 2)\n",
        "        df['Lower_BB'] = df['Close'].rolling(window=20).mean() - (df['Close'].rolling(window=20).std() * 2)\n",
        "\n",
        "        df['RSI'] = 100 - (100 / (1 + (df['Close'].diff().clip(lower=0).mean() / df['Close'].diff().clip(upper=0).abs().mean())))\n",
        "\n",
        "        df['Volume_Surge'] = df['Volume'] / df['Volume'].rolling(window=10).mean()\n",
        "\n",
        "        # Breakout Criteria\n",
        "        latest = df.iloc[-1]\n",
        "\n",
        "        breakout = (latest['Close'] > latest['50_SMA']) and (latest['Close'] > latest['Upper_BB']) and \\\n",
        "                   (latest['RSI'] > 60) and (latest['Volume_Surge'] > 2)\n",
        "\n",
        "        if breakout:\n",
        "            return {\n",
        "                \"Stock\": stock,\n",
        "                \"Price\": latest['Close'],\n",
        "                \"RSI\": latest['RSI'],\n",
        "                \"Volume Surge\": latest['Volume_Surge'],\n",
        "                \"50 SMA\": latest['50_SMA']\n",
        "            }\n",
        "\n",
        "    except Exception as e:\n",
        "        print(f\"Error fetching {stock}: {e}\")\n",
        "        return None\n",
        "\n",
        "# Continuous scanning function (Runs every minute)\n",
        "def start_breakout_scanner():\n",
        "    while True:\n",
        "        print(\"\\n🔍 Scanning for Breakout Stocks in Nifty Next 50...\")\n",
        "        nifty_next_50_stocks = get_nifty_next_50_stocks()  # Fetch updated Nifty Next 50 stocks list\n",
        "\n",
        "        breakout_stocks = []\n",
        "        for stock in nifty_next_50_stocks:\n",
        "            result = check_breakout(stock)\n",
        "            if result:\n",
        "                breakout_stocks.append(result)\n",
        "\n",
        "        breakout_df = pd.DataFrame(breakout_stocks)\n",
        "\n",
        "        # Display results\n",
        "        if breakout_df.empty:\n",
        "            print(\"🚨 No breakout stocks found.\")\n",
        "        else:\n",
        "            print(\"🔥 Breakout Stocks Found 🔥\")\n",
        "            print(breakout_df)\n",
        "\n",
        "        # Wait for 1 minute before scanning again\n",
        "        print(\"\\n⏳ Waiting for 1 minute before next scan...\\n\")\n",
        "        time.sleep(60)\n",
        "\n",
        "# Start scanning\n",
        "start_breakout_scanner()"
      ]
    }
  ]
}